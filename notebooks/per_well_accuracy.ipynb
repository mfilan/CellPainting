{
 "cells": [
  {
   "cell_type": "code",
   "execution_count": 1,
   "id": "f02b8f3f-91f5-475f-bf19-0a61a89b63c8",
   "metadata": {},
   "outputs": [],
   "source": [
    "import os\n",
    "import sys\n",
    "\n",
    "proj_root = os.getcwd() + \"/..\"\n",
    "os.chdir(proj_root)\n",
    "sys.path.append(proj_root)"
   ]
  },
  {
   "cell_type": "code",
   "execution_count": 2,
   "id": "2cef797d-a202-4237-adce-5020c833105f",
   "metadata": {},
   "outputs": [],
   "source": [
    "import pandas as pd\n",
    "import torch"
   ]
  },
  {
   "cell_type": "code",
   "execution_count": 3,
   "id": "a5477c69-c354-4b5f-8f89-9655fee1992d",
   "metadata": {},
   "outputs": [],
   "source": [
    "from src.models import train, config, generate_predictions\n",
    "\n",
    "config = config.Config()\n",
    "metadata = pd.read_csv(config.dataset_metadata)\n",
    "predictions = pd.read_csv(config.model_predictions)\n",
    "\n",
    "g = torch.Generator(device=train.device).manual_seed(0)"
   ]
  },
  {
   "cell_type": "code",
   "execution_count": 4,
   "id": "b7f3d32c-9dcf-47fb-9732-11278aeab15f",
   "metadata": {},
   "outputs": [],
   "source": [
    "def per_well_accuracy(sampler, average=False):\n",
    "    sampled = predictions[metadata.index.isin(sampler)].copy()\n",
    "    compounds = ['Berberine Chloride','Brefeldin A','DFSO','Fluphenazine','Latrunculin B','Nocodazole','Rapamycin','Rotenone','Tetrandrine']\n",
    "    sampled['preds'] = sampled[compounds].to_dict(orient='records')\n",
    "    sampled = sampled.drop(columns=compounds)\n",
    "    grouped = sampled.groupby(metadata['well_id'])\n",
    "    if average:\n",
    "        pred = grouped.preds.agg(lambda x: pd.DataFrame(list(x)).mean().idxmax())\n",
    "    else: #majority\n",
    "        pred = grouped.predicted_compound.agg(lambda x: x.value_counts().index[0])\n",
    "    true = grouped.true_compound.agg(lambda x: list(x)[0])\n",
    "    correct = sum(pred==true)\n",
    "    total = len(true)\n",
    "    return correct/total"
   ]
  },
  {
   "cell_type": "code",
   "execution_count": 5,
   "id": "54a173d2-3f5c-4ee9-bd93-f7df9243f99a",
   "metadata": {},
   "outputs": [
    {
     "name": "stdout",
     "output_type": "stream",
     "text": [
      "Training dataset (per-well, majority):\n",
      "\t98.810%\n",
      "Validation dataset (per-well, majority):\n",
      "\t95.833%\n",
      "Test dataset (per-well, majority):\n",
      "\t98.958%\n",
      "\n",
      "Training dataset (per-well, average):\n",
      "\t99.405%\n",
      "Validation dataset (per-well, average):\n",
      "\t95.833%\n",
      "Test dataset (per-well, average):\n",
      "\t97.917%\n",
      "\n"
     ]
    }
   ],
   "source": [
    "for av in False, True:\n",
    "    for name, sampler in zip([\"Training\", \"Validation\", \"Test\"], train.get_stratified_sampler(config, g)):\n",
    "        print(f\"{name} dataset (per-well, {'average' if av else 'majority'}):\")\n",
    "        print(f\"\\t{per_well_accuracy(sampler, av):.3%}\")\n",
    "    print()"
   ]
  }
 ],
 "metadata": {
  "kernelspec": {
   "display_name": "Python (Cell Painting)",
   "language": "python",
   "name": "cell-painting"
  },
  "language_info": {
   "codemirror_mode": {
    "name": "ipython",
    "version": 3
   },
   "file_extension": ".py",
   "mimetype": "text/x-python",
   "name": "python",
   "nbconvert_exporter": "python",
   "pygments_lexer": "ipython3",
   "version": "3.9.9"
  }
 },
 "nbformat": 4,
 "nbformat_minor": 5
}
